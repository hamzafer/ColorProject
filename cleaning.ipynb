{
 "cells": [
  {
   "cell_type": "code",
   "execution_count": 6,
   "metadata": {},
   "outputs": [],
   "source": [
    "import numpy as np\n",
    "import pandas as pd \n",
    "from main import lab2xyz\n"
   ]
  },
  {
   "cell_type": "code",
   "execution_count": 25,
   "metadata": {},
   "outputs": [],
   "source": [
    "data = pd.read_csv('data/APTEC_PC10_CardBoard_2023_v1.csv')\n",
    "\n",
    "values = data.iloc[18:19]\n",
    "values = values.values.tolist()\n",
    "data = data.iloc[23:]\n",
    "data.reset_index(inplace=True, drop=True)\n",
    "data.columns = values\n",
    "data = data.iloc[:-1]\n",
    "\n",
    "columns = ['LAB_L', 'LAB_A', 'LAB_B']\n",
    "data[columns] = data[columns].apply(pd.to_numeric, errors='coerce', axis=1)\n",
    "data_subset = np.array(data[columns].values.tolist())\n",
    "result = lab2xyz(data_subset)\n",
    "data['XYZ_X'] = result[:, 0]\n",
    "data['XYZ_Y'] = result[:, 1]\n",
    "data['XYZ_Z'] = result[:, 2]\n",
    "\n",
    "data.to_csv('cleaned/APTEC_PC10_CardBoard_2023_v1.csv', index=False)\n"
   ]
  },
  {
   "cell_type": "code",
   "execution_count": 26,
   "metadata": {},
   "outputs": [],
   "source": [
    "data = pd.read_csv('data/APTEC_PC11_CCNB_2023_v1.csv')\n",
    "\n",
    "values = data.iloc[18:19]\n",
    "values = values.values.tolist()\n",
    "data = data.iloc[23:]\n",
    "data.reset_index(inplace=True, drop=True)\n",
    "data.columns = values\n",
    "data = data.iloc[:-1]\n",
    "\n",
    "columns = ['LAB_L', 'LAB_A', 'LAB_B']\n",
    "data[columns] = data[columns].apply(pd.to_numeric, errors='coerce', axis=1)\n",
    "data_subset = np.array(data[columns].values.tolist())\n",
    "result = lab2xyz(data_subset)\n",
    "data['XYZ_X'] = result[:, 0]\n",
    "data['XYZ_Y'] = result[:, 1]\n",
    "data['XYZ_Z'] = result[:, 2]\n",
    "\n",
    "data.to_csv('cleaned/APTEC_PC11_CCNB_2023_v1.csv', index=False)\n"
   ]
  }
 ],
 "metadata": {
  "kernelspec": {
   "display_name": "Python 3",
   "language": "python",
   "name": "python3"
  },
  "language_info": {
   "codemirror_mode": {
    "name": "ipython",
    "version": 3
   },
   "file_extension": ".py",
   "mimetype": "text/x-python",
   "name": "python",
   "nbconvert_exporter": "python",
   "pygments_lexer": "ipython3",
   "version": "3.11.6"
  }
 },
 "nbformat": 4,
 "nbformat_minor": 2
}
