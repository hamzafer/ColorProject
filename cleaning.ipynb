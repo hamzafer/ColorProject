{
 "cells": [
  {
   "cell_type": "code",
   "execution_count": 4,
   "metadata": {},
   "outputs": [],
   "source": [
    "import numpy as np\n",
    "import pandas as pd "
   ]
  },
  {
   "cell_type": "code",
   "execution_count": 66,
   "metadata": {},
   "outputs": [],
   "source": [
    "data = pd.read_csv('data/APTEC_PC10_CardBoard_2023_v1.csv')\n",
    "values = data.iloc[18:19]\n",
    "values = values.values.tolist()\n",
    "data = data.iloc[23:]\n",
    "data.reset_index(inplace=True, drop=True)\n",
    "data.columns = values\n",
    "data = data.iloc[:-1]\n",
    "data.to_csv('cleaned/APTEC_PC10_CardBoard_2023_v1.csv', index=False)\n"
   ]
  },
  {
   "cell_type": "code",
   "execution_count": 65,
   "metadata": {},
   "outputs": [],
   "source": [
    "data = pd.read_csv('data/APTEC_PC11_CCNB_2023_v1.csv')\n",
    "values = data.iloc[18:19]\n",
    "values = values.values.tolist()\n",
    "data = data.iloc[23:]\n",
    "data.reset_index(inplace=True, drop=True)\n",
    "data.columns = values\n",
    "data = data.iloc[:-1]\n",
    "data.to_csv('cleaned/APTEC_PC11_CCNB_2023_v1.csv', index=False)\n"
   ]
  },
  {
   "cell_type": "code",
   "execution_count": null,
   "metadata": {},
   "outputs": [],
   "source": []
  }
 ],
 "metadata": {
  "kernelspec": {
   "display_name": "Python 3",
   "language": "python",
   "name": "python3"
  },
  "language_info": {
   "name": "python",
   "version": "3.12.0"
  }
 },
 "nbformat": 4,
 "nbformat_minor": 2
}
